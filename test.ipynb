{
 "cells": [
  {
   "cell_type": "code",
   "execution_count": 54,
   "metadata": {},
   "outputs": [],
   "source": [
    "from scipy.stats import spearmanr\n",
    "from sklearn.linear_model import LinearRegression\n",
    "import matplotlib.pyplot as plt\n",
    "import numpy as np\n",
    "import pandas as pd\n",
    "from sklearn.linear_model import LinearRegression\n",
    "import matplotlib.pyplot as plt\n",
    "from sklearn.model_selection import train_test_split, GridSearchCV, KFold, RandomizedSearchCV, StratifiedKFold\n",
    "from sklearn.ensemble import RandomForestRegressor, GradientBoostingRegressor, AdaBoostRegressor\n",
    "from sklearn.tree import DecisionTreeRegressor\n",
    "import warnings \n",
    "warnings.filterwarnings(\"ignore\")\n",
    "from sklearn import ensemble \n",
    "from sklearn.svm import SVC"
   ]
  },
  {
   "cell_type": "code",
   "execution_count": 55,
   "metadata": {},
   "outputs": [],
   "source": [
    "# Load data\n",
    "X_train = pd.read_csv('x_train.csv')\n",
    "Y_train = pd.read_csv('y_train.csv')\n",
    "X_test = pd.read_csv('x_test.csv')\n",
    "\n",
    "X_train_clean = pd.read_csv('x_train.csv')\n",
    "X_test_clean = pd.read_csv('x_test.csv')\n",
    "Y_train_clean = pd.read_csv('y_train.csv')\n"
   ]
  },
  {
   "cell_type": "code",
   "execution_count": 56,
   "metadata": {},
   "outputs": [],
   "source": [
    "# Separate data by country\n",
    "X_train_fr = X_train_clean[X_train_clean['COUNTRY'] == 'FR']\n",
    "X_train_de = X_train_clean[X_train_clean['COUNTRY'] == 'DE']\n",
    "\n",
    "X_test_fr = X_test_clean[X_test_clean['COUNTRY'] == 'FR']\n",
    "X_test_de = X_test_clean[X_test_clean['COUNTRY'] == 'DE']\n",
    "\n",
    "Y_train_fr = Y_train_clean[Y_train_clean[\"ID\"].isin(X_train_fr[\"ID\"])]\n",
    "Y_train_de = Y_train_clean[Y_train_clean[\"ID\"].isin(X_train_de[\"ID\"])]"
   ]
  },
  {
   "cell_type": "code",
   "execution_count": 53,
   "metadata": {},
   "outputs": [],
   "source": [
    "'''\n",
    "X_train_fr.drop_duplicates(subset=['DAY_ID'], inplace=True)\n",
    "X_train_de.drop_duplicates(subset=['DAY_ID'], inplace=True)\n",
    "\n",
    "X_test_fr.drop_duplicates(subset=['DAY_ID'], inplace=True)\n",
    "X_test_de.drop_duplicates(subset=['DAY_ID'], inplace=True)\n",
    "'''"
   ]
  },
  {
   "cell_type": "code",
   "execution_count": 57,
   "metadata": {},
   "outputs": [],
   "source": [
    "# Train-Test Split\n",
    "X_train_fr = X_train_fr.drop(['COUNTRY', 'DAY_ID', 'ID'], axis=1)\n",
    "X_train_de = X_train_de.drop(['COUNTRY', 'DAY_ID', 'ID'], axis=1)\n",
    "\n",
    "X_test_fr = X_test_fr.drop(['COUNTRY', 'DAY_ID', 'ID'], axis=1)\n",
    "X_test_de = X_test_de.drop(['COUNTRY', 'DAY_ID', 'ID'], axis=1)"
   ]
  },
  {
   "cell_type": "code",
   "execution_count": 58,
   "metadata": {},
   "outputs": [],
   "source": [
    "# Fill nan values with median\n",
    "for col in X_train_fr.columns:\n",
    "    X_train_fr[col].fillna(X_train_fr[col].median(), inplace=True)\n",
    "for col in X_train_de.columns:\n",
    "    X_train_de[col].fillna(X_train_de[col].median(), inplace=True)"
   ]
  },
  {
   "cell_type": "code",
   "execution_count": 59,
   "metadata": {},
   "outputs": [],
   "source": [
    "for col in X_test_fr.columns:\n",
    "    X_test_fr[col].fillna(X_test_fr[col].median(), inplace=True)\n",
    "for col in X_test_de.columns:\n",
    "    X_test_de[col].fillna(X_test_de[col].median(), inplace=True)"
   ]
  },
  {
   "cell_type": "code",
   "execution_count": 60,
   "metadata": {},
   "outputs": [],
   "source": [
    "# Split into training and validation set\n",
    "X_train_fr_split, X_val_fr_split, Y_train_fr_split, Y_val_fr_split = train_test_split(X_train_fr, Y_train_fr['TARGET'], test_size=0.2, random_state=42)\n",
    "X_train_de_split, X_val_de_split, Y_train_de_split, Y_val_de_split = train_test_split(X_train_de, Y_train_de['TARGET'], test_size=0.2, random_state=42)"
   ]
  },
  {
   "cell_type": "code",
   "execution_count": 61,
   "metadata": {},
   "outputs": [],
   "source": [
    "# Feature engineering\n",
    "# 1. Date-related features\n",
    "X_train['DAY_ID'] = pd.to_datetime(X_train['DAY_ID'])\n",
    "X_train['day_of_week'] = X_train['DAY_ID'].dt.dayofweek\n",
    "X_train['month'] = X_train['DAY_ID'].dt.month\n",
    "\n",
    "X_test['DAY_ID'] = pd.to_datetime(X_test['DAY_ID'])\n",
    "X_test['day_of_week'] = X_test['DAY_ID'].dt.dayofweek\n",
    "X_test['month'] = X_test['DAY_ID'].dt.month\n",
    "\n",
    "# 2. Interaction features\n",
    "X_train['gas_coal_interaction'] = X_train['DE_GAS'] * X_train['DE_COAL']\n",
    "X_test['gas_coal_interaction'] = X_test['DE_GAS'] * X_test['DE_COAL']\n",
    "\n",
    "# 3. Rolling averages\n",
    "X_train['rolling_temp_mean'] = X_train['DE_TEMP'].rolling(window=3).mean()\n",
    "X_test['rolling_temp_mean'] = X_test['DE_TEMP'].rolling(window=3).mean()"
   ]
  },
  {
   "cell_type": "code",
   "execution_count": 62,
   "metadata": {},
   "outputs": [],
   "source": [
    "rf_model = RandomForestRegressor(random_state=42)\n",
    "\n",
    "# Initialize k-fold cross-validation\n",
    "kf = KFold(n_splits=5, shuffle=True, random_state=42)\n",
    "\n",
    "param_grid_rf = {\n",
    "    'n_estimators': [50, 100, 200],\n",
    "    'max_depth': [None, 10, 20],\n",
    "    'min_samples_split': [2, 5, 10],\n",
    "    'min_samples_leaf': [1, 2, 4]\n",
    "}"
   ]
  },
  {
   "cell_type": "code",
   "execution_count": 63,
   "metadata": {},
   "outputs": [
    {
     "name": "stdout",
     "output_type": "stream",
     "text": [
      "Spearman's correlation for Random Forest on training set (Germany): 0.9335559521841504\n",
      "Spearman's correlation for Random Forest on validation set (Germany): 0.1324016100178891\n"
     ]
    }
   ],
   "source": [
    "# RF Model Germany Training and Validation set\n",
    "rf_model.fit(X_train_de_split, Y_train_de_split)\n",
    "\n",
    "output_train_rf_de = rf_model.predict(X_train_de_split)\n",
    "output_val_rf_de = rf_model.predict(X_val_de_split)\n",
    "\n",
    "correlation_train_rf_de = spearmanr(output_train_rf_de, Y_train_de_split).correlation\n",
    "correlation_val_rf_de = spearmanr(output_val_rf_de, Y_val_de_split).correlation\n",
    "\n",
    "print(f\"Spearman's correlation for Random Forest on training set (Germany): {correlation_train_rf_de}\")\n",
    "print(f\"Spearman's correlation for Random Forest on validation set (Germany): {correlation_val_rf_de}\")"
   ]
  },
  {
   "cell_type": "code",
   "execution_count": 64,
   "metadata": {},
   "outputs": [
    {
     "data": {
      "text/html": [
       "<style>#sk-container-id-2 {color: black;}#sk-container-id-2 pre{padding: 0;}#sk-container-id-2 div.sk-toggleable {background-color: white;}#sk-container-id-2 label.sk-toggleable__label {cursor: pointer;display: block;width: 100%;margin-bottom: 0;padding: 0.3em;box-sizing: border-box;text-align: center;}#sk-container-id-2 label.sk-toggleable__label-arrow:before {content: \"▸\";float: left;margin-right: 0.25em;color: #696969;}#sk-container-id-2 label.sk-toggleable__label-arrow:hover:before {color: black;}#sk-container-id-2 div.sk-estimator:hover label.sk-toggleable__label-arrow:before {color: black;}#sk-container-id-2 div.sk-toggleable__content {max-height: 0;max-width: 0;overflow: hidden;text-align: left;background-color: #f0f8ff;}#sk-container-id-2 div.sk-toggleable__content pre {margin: 0.2em;color: black;border-radius: 0.25em;background-color: #f0f8ff;}#sk-container-id-2 input.sk-toggleable__control:checked~div.sk-toggleable__content {max-height: 200px;max-width: 100%;overflow: auto;}#sk-container-id-2 input.sk-toggleable__control:checked~label.sk-toggleable__label-arrow:before {content: \"▾\";}#sk-container-id-2 div.sk-estimator input.sk-toggleable__control:checked~label.sk-toggleable__label {background-color: #d4ebff;}#sk-container-id-2 div.sk-label input.sk-toggleable__control:checked~label.sk-toggleable__label {background-color: #d4ebff;}#sk-container-id-2 input.sk-hidden--visually {border: 0;clip: rect(1px 1px 1px 1px);clip: rect(1px, 1px, 1px, 1px);height: 1px;margin: -1px;overflow: hidden;padding: 0;position: absolute;width: 1px;}#sk-container-id-2 div.sk-estimator {font-family: monospace;background-color: #f0f8ff;border: 1px dotted black;border-radius: 0.25em;box-sizing: border-box;margin-bottom: 0.5em;}#sk-container-id-2 div.sk-estimator:hover {background-color: #d4ebff;}#sk-container-id-2 div.sk-parallel-item::after {content: \"\";width: 100%;border-bottom: 1px solid gray;flex-grow: 1;}#sk-container-id-2 div.sk-label:hover label.sk-toggleable__label {background-color: #d4ebff;}#sk-container-id-2 div.sk-serial::before {content: \"\";position: absolute;border-left: 1px solid gray;box-sizing: border-box;top: 0;bottom: 0;left: 50%;z-index: 0;}#sk-container-id-2 div.sk-serial {display: flex;flex-direction: column;align-items: center;background-color: white;padding-right: 0.2em;padding-left: 0.2em;position: relative;}#sk-container-id-2 div.sk-item {position: relative;z-index: 1;}#sk-container-id-2 div.sk-parallel {display: flex;align-items: stretch;justify-content: center;background-color: white;position: relative;}#sk-container-id-2 div.sk-item::before, #sk-container-id-2 div.sk-parallel-item::before {content: \"\";position: absolute;border-left: 1px solid gray;box-sizing: border-box;top: 0;bottom: 0;left: 50%;z-index: -1;}#sk-container-id-2 div.sk-parallel-item {display: flex;flex-direction: column;z-index: 1;position: relative;background-color: white;}#sk-container-id-2 div.sk-parallel-item:first-child::after {align-self: flex-end;width: 50%;}#sk-container-id-2 div.sk-parallel-item:last-child::after {align-self: flex-start;width: 50%;}#sk-container-id-2 div.sk-parallel-item:only-child::after {width: 0;}#sk-container-id-2 div.sk-dashed-wrapped {border: 1px dashed gray;margin: 0 0.4em 0.5em 0.4em;box-sizing: border-box;padding-bottom: 0.4em;background-color: white;}#sk-container-id-2 div.sk-label label {font-family: monospace;font-weight: bold;display: inline-block;line-height: 1.2em;}#sk-container-id-2 div.sk-label-container {text-align: center;}#sk-container-id-2 div.sk-container {/* jupyter's `normalize.less` sets `[hidden] { display: none; }` but bootstrap.min.css set `[hidden] { display: none !important; }` so we also need the `!important` here to be able to override the default hidden behavior on the sphinx rendered scikit-learn.org. See: https://github.com/scikit-learn/scikit-learn/issues/21755 */display: inline-block !important;position: relative;}#sk-container-id-2 div.sk-text-repr-fallback {display: none;}</style><div id=\"sk-container-id-2\" class=\"sk-top-container\"><div class=\"sk-text-repr-fallback\"><pre>GridSearchCV(cv=KFold(n_splits=5, random_state=42, shuffle=True),\n",
       "             estimator=RandomForestRegressor(random_state=42),\n",
       "             param_grid={&#x27;max_depth&#x27;: [None, 10, 20],\n",
       "                         &#x27;min_samples_leaf&#x27;: [1, 2, 4],\n",
       "                         &#x27;min_samples_split&#x27;: [2, 5, 10],\n",
       "                         &#x27;n_estimators&#x27;: [50, 100, 200]},\n",
       "             scoring=&#x27;neg_mean_squared_error&#x27;)</pre><b>In a Jupyter environment, please rerun this cell to show the HTML representation or trust the notebook. <br />On GitHub, the HTML representation is unable to render, please try loading this page with nbviewer.org.</b></div><div class=\"sk-container\" hidden><div class=\"sk-item sk-dashed-wrapped\"><div class=\"sk-label-container\"><div class=\"sk-label sk-toggleable\"><input class=\"sk-toggleable__control sk-hidden--visually\" id=\"sk-estimator-id-4\" type=\"checkbox\" ><label for=\"sk-estimator-id-4\" class=\"sk-toggleable__label sk-toggleable__label-arrow\">GridSearchCV</label><div class=\"sk-toggleable__content\"><pre>GridSearchCV(cv=KFold(n_splits=5, random_state=42, shuffle=True),\n",
       "             estimator=RandomForestRegressor(random_state=42),\n",
       "             param_grid={&#x27;max_depth&#x27;: [None, 10, 20],\n",
       "                         &#x27;min_samples_leaf&#x27;: [1, 2, 4],\n",
       "                         &#x27;min_samples_split&#x27;: [2, 5, 10],\n",
       "                         &#x27;n_estimators&#x27;: [50, 100, 200]},\n",
       "             scoring=&#x27;neg_mean_squared_error&#x27;)</pre></div></div></div><div class=\"sk-parallel\"><div class=\"sk-parallel-item\"><div class=\"sk-item\"><div class=\"sk-label-container\"><div class=\"sk-label sk-toggleable\"><input class=\"sk-toggleable__control sk-hidden--visually\" id=\"sk-estimator-id-5\" type=\"checkbox\" ><label for=\"sk-estimator-id-5\" class=\"sk-toggleable__label sk-toggleable__label-arrow\">estimator: RandomForestRegressor</label><div class=\"sk-toggleable__content\"><pre>RandomForestRegressor(random_state=42)</pre></div></div></div><div class=\"sk-serial\"><div class=\"sk-item\"><div class=\"sk-estimator sk-toggleable\"><input class=\"sk-toggleable__control sk-hidden--visually\" id=\"sk-estimator-id-6\" type=\"checkbox\" ><label for=\"sk-estimator-id-6\" class=\"sk-toggleable__label sk-toggleable__label-arrow\">RandomForestRegressor</label><div class=\"sk-toggleable__content\"><pre>RandomForestRegressor(random_state=42)</pre></div></div></div></div></div></div></div></div></div></div>"
      ],
      "text/plain": [
       "GridSearchCV(cv=KFold(n_splits=5, random_state=42, shuffle=True),\n",
       "             estimator=RandomForestRegressor(random_state=42),\n",
       "             param_grid={'max_depth': [None, 10, 20],\n",
       "                         'min_samples_leaf': [1, 2, 4],\n",
       "                         'min_samples_split': [2, 5, 10],\n",
       "                         'n_estimators': [50, 100, 200]},\n",
       "             scoring='neg_mean_squared_error')"
      ]
     },
     "execution_count": 64,
     "metadata": {},
     "output_type": "execute_result"
    }
   ],
   "source": [
    "# Hyperparameter tuning using GridSearchCV\n",
    "grid_search_de = GridSearchCV(rf_model, param_grid_rf, cv=kf, scoring='neg_mean_squared_error')\n",
    "grid_search_de.fit(X_train_de, Y_train_de)"
   ]
  },
  {
   "cell_type": "code",
   "execution_count": 65,
   "metadata": {},
   "outputs": [],
   "source": [
    "best_rf_model_de = grid_search_de.best_estimator_"
   ]
  },
  {
   "cell_type": "code",
   "execution_count": 66,
   "metadata": {},
   "outputs": [
    {
     "name": "stdout",
     "output_type": "stream",
     "text": [
      "Spearman's correlation for tuned Random Forest on training set (Germany): [[ 1.         -0.03620376 -0.02194046]\n",
      " [-0.03620376  1.          0.9580266 ]\n",
      " [-0.02194046  0.9580266   1.        ]]\n",
      "Spearman's correlation for tuned Random Forest on validation set (Germany): [[ 1.         -0.00290698  0.0063059 ]\n",
      " [-0.00290698  1.          0.95019007]\n",
      " [ 0.0063059   0.95019007  1.        ]]\n"
     ]
    }
   ],
   "source": [
    "# Model evaluation on Germany training set\n",
    "\n",
    "best_rf_model_de.fit(X_train_de, Y_train_de)\n",
    "\n",
    "output_train_best_rf_de = best_rf_model_de.predict(X_train_de_split)\n",
    "output_val_best_rf_de = best_rf_model_de.predict(X_val_de_split)\n",
    "\n",
    "correlation_train_best_rf_de = spearmanr(output_train_best_rf_de, Y_train_de_split).correlation\n",
    "correlation_val_best_rf_de = spearmanr(output_val_best_rf_de, Y_val_de_split).correlation\n",
    "\n",
    "\n",
    "print(f\"Spearman's correlation for tuned Random Forest on training set (Germany): {correlation_train_best_rf_de}\")\n",
    "print(f\"Spearman's correlation for tuned Random Forest on validation set (Germany): {correlation_val_best_rf_de}\")\n"
   ]
  },
  {
   "cell_type": "code",
   "execution_count": null,
   "metadata": {},
   "outputs": [],
   "source": [
    "# Fit the model for France\n",
    "rf_model.fit(X_train_fr_split, Y_train_fr_split)\n",
    "\n",
    "output_train_rf_fr = rf_model.predict(X_train_fr_split)\n",
    "output_val_rf_fr = rf_model.predict(X_val_fr_split)\n",
    "\n",
    "correlation_train_xgb_fr = spearmanr(output_train_rf_fr, Y_train_fr_split).correlation\n",
    "correlation_val_xgb_fr = spearmanr(output_val_rf_fr, Y_val_fr_split).correlation\n",
    "\n",
    "print(f\"Spearman's correlation for XGBoost on training set (France): {correlation_train_xgb_fr}\")\n",
    "print(f\"Spearman's correlation for XGBoost on validation set (France): {correlation_val_xgb_fr}\")"
   ]
  },
  {
   "cell_type": "code",
   "execution_count": null,
   "metadata": {},
   "outputs": [],
   "source": [
    "grid_search_fr = GridSearchCV(rf_model, param_grid_rf, cv=kf, scoring='neg_mean_squared_error')\n",
    "grid_search_fr.fit(X_train_fr, Y_train_fr)\n"
   ]
  },
  {
   "cell_type": "code",
   "execution_count": null,
   "metadata": {},
   "outputs": [],
   "source": [
    "\n",
    "best_params_fr = grid_search_fr.best_params_\n",
    "best_rf_model_fr = grid_search_fr.best_estimator_\n"
   ]
  },
  {
   "cell_type": "code",
   "execution_count": null,
   "metadata": {},
   "outputs": [],
   "source": [
    "\n",
    "# Model evaluation on Germany training set\n",
    "output_fr = best_rf_model_fr.predict(X_train_fr)\n",
    "\n",
    "spearman_fr = spearmanr(output_fr, Y_train_fr).correlation\n",
    "\n",
    "print('Spearman correlation for tuned XBoost on training set France: {:.2f}'.format(spearman_de))"
   ]
  },
  {
   "cell_type": "code",
   "execution_count": null,
   "metadata": {},
   "outputs": [],
   "source": [
    "# Final predictions for the test set\n",
    "X_test_de = X_test[X_test['COUNTRY'] == 'DE'].drop(['ID', 'DAY_ID', 'COUNTRY'], axis=1)\n",
    "Y_test_submission_de = X_test_de[['ID']].copy()\n",
    "Y_test_submission_de['TARGET'] = best_rf_model_de.predict(X_test_de)\n",
    "\n",
    "X_test_fr= X_test[X_test['COUNTRY'] == 'FR'].drop(['ID', 'DAY_ID', 'COUNTRY'], axis=1)\n",
    "Y_test_submission_fr = X_test_fr[['ID']].copy()\n",
    "Y_test_submission_fr['TARGET'] = best_rf_model_fr.predict(X_test_fr)\n",
    "\n",
    "# Combine predictions for the final submission file\n",
    "Y_test_submission = pd.concat([Y_test_submission_de, Y_test_submission_de], axis=0)"
   ]
  }
 ],
 "metadata": {
  "kernelspec": {
   "display_name": "Python 3",
   "language": "python",
   "name": "python3"
  },
  "language_info": {
   "codemirror_mode": {
    "name": "ipython",
    "version": 3
   },
   "file_extension": ".py",
   "mimetype": "text/x-python",
   "name": "python",
   "nbconvert_exporter": "python",
   "pygments_lexer": "ipython3",
   "version": "3.11.6"
  }
 },
 "nbformat": 4,
 "nbformat_minor": 2
}
