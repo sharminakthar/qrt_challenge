{
 "cells": [
  {
   "cell_type": "code",
   "execution_count": null,
   "metadata": {},
   "outputs": [],
   "source": [
    "import pandas as pd\n",
    "from sklearn.ensemble import RandomForestRegressor, GradientBoostingRegressor\n",
    "from sklearn.model_selection import train_test_split, KFold, GridSearchCV, RandomizedSearchCV\n",
    "from sklearn.metrics import mean_squared_error\n",
    "from scipy.stats import spearmanr"
   ]
  },
  {
   "cell_type": "code",
   "execution_count": null,
   "metadata": {},
   "outputs": [],
   "source": [
    "# Load data\n",
    "X_train = pd.read_csv('X_train.csv')\n",
    "Y_train = pd.read_csv('Y_train.csv')\n",
    "X_test = pd.read_csv('X_test.csv')\n",
    "\n",
    "X_train_clean = pd.read_csv('X_train.csv')\n",
    "Y_train_clean = pd.read_csv('Y_train.csv')\n"
   ]
  },
  {
   "cell_type": "code",
   "execution_count": null,
   "metadata": {},
   "outputs": [],
   "source": [
    "# Separate data by country\n",
    "X_train_fr = X_train_clean[X_train_clean['COUNTRY'] == 'FR']\n",
    "X_train_de = X_train_clean[X_train_clean['COUNTRY'] == 'DE']\n",
    "Y_train_fr = Y_train_clean[Y_train_clean[\"ID\"].isin(X_train_fr[\"ID\"])]\n",
    "Y_train_de = Y_train_clean[Y_train_clean[\"ID\"].isin(X_train_de[\"ID\"])]\n"
   ]
  },
  {
   "cell_type": "code",
   "execution_count": null,
   "metadata": {},
   "outputs": [],
   "source": [
    "\n",
    "# Train-Test Split\n",
    "X_train_fr = X_train_fr.drop(['COUNTRY', 'DAY_ID', 'ID'], axis=1)\n",
    "X_train_de = X_train_de.drop(['COUNTRY', 'DAY_ID', 'ID'], axis=1)\n"
   ]
  },
  {
   "cell_type": "code",
   "execution_count": null,
   "metadata": {},
   "outputs": [],
   "source": [
    "# Fill nan values with median\n",
    "for col in X_train_fr.columns:\n",
    "    X_train_fr[col].fillna(X_train_fr[col].median(), inplace=True)\n",
    "for col in X_train_de.columns:\n",
    "    X_train_de[col].fillna(X_train_de[col].median(), inplace=True)"
   ]
  },
  {
   "cell_type": "code",
   "execution_count": null,
   "metadata": {},
   "outputs": [],
   "source": [
    "# Split into training and validation set\n",
    "X_train_fr_split, X_val_fr_split, Y_train_fr_split, Y_val_fr_split = train_test_split(X_train_fr, Y_train_fr['TARGET'], test_size=0.2, random_state=42)\n",
    "X_train_de_split, X_val_de_split, Y_train_de_split, Y_val_de_split = train_test_split(X_train_de, Y_train_de['TARGET'], test_size=0.2, random_state=42)"
   ]
  },
  {
   "cell_type": "code",
   "execution_count": null,
   "metadata": {},
   "outputs": [],
   "source": [
    "# Feature engineering\n",
    "# 1. Date-related features\n",
    "X_train['DAY_ID'] = pd.to_datetime(X_train['DAY_ID'])\n",
    "X_train['day_of_week'] = X_train['DAY_ID'].dt.dayofweek\n",
    "X_train['month'] = X_train['DAY_ID'].dt.month\n",
    "\n",
    "X_test['DAY_ID'] = pd.to_datetime(X_test['DAY_ID'])\n",
    "X_test['day_of_week'] = X_test['DAY_ID'].dt.dayofweek\n",
    "X_test['month'] = X_test['DAY_ID'].dt.month\n",
    "\n",
    "# 2. Interaction features\n",
    "X_train['gas_coal_interaction'] = X_train['DE_GAS'] * X_train['DE_COAL']\n",
    "X_test['gas_coal_interaction'] = X_test['DE_GAS'] * X_test['DE_COAL']\n",
    "\n",
    "# 3. Rolling averages\n",
    "X_train['rolling_temp_mean'] = X_train['DE_TEMP'].rolling(window=3).mean()\n",
    "X_test['rolling_temp_mean'] = X_test['DE_TEMP'].rolling(window=3).mean()"
   ]
  },
  {
   "cell_type": "code",
   "execution_count": null,
   "metadata": {},
   "outputs": [],
   "source": [
    "rf_model = RandomForestRegressor(random_state=42)\n",
    "\n",
    "# Initialize k-fold cross-validation\n",
    "kf = KFold(n_splits=5, shuffle=True, random_state=42)\n",
    "\n",
    "param_grid = {\n",
    "    'n_estimators': [50, 100, 200],\n",
    "    'learning_rate': [0.01, 0.1, 0.2],\n",
    "    'max_depth': [3, 5, 10],\n",
    "    'min_child_weight': [1, 3, 5]\n",
    "}"
   ]
  },
  {
   "cell_type": "code",
   "execution_count": null,
   "metadata": {},
   "outputs": [],
   "source": [
    "# RF Model Germany Training and Validation set\n",
    "rf_model.fit(X_train_de_split, Y_train_de_split)\n",
    "\n",
    "output_train_rf_de = rf_model.predict(X_train_de_split)\n",
    "output_val_rf_de = rf_model.predict(X_val_de_split)\n",
    "\n",
    "correlation_train_xgb_de = spearmanr(output_train_rf_de, Y_train_de_split).correlation\n",
    "correlation_val_xgb_de = spearmanr(output_val_rf_de, Y_val_de_split).correlation\n",
    "\n",
    "print(f\"Spearman's correlation for XGBoost on training set (Germany): {correlation_train_xgb_de}\")\n",
    "print(f\"Spearman's correlation for XGBoost on validation set (Germany): {correlation_val_xgb_de}\")"
   ]
  },
  {
   "cell_type": "code",
   "execution_count": null,
   "metadata": {},
   "outputs": [],
   "source": [
    "# Hyperparameter tuning using GridSearchCV\n",
    "\n",
    "grid_search_de = GridSearchCV(rf_model, param_grid, cv=kf, scoring='neg_mean_squared_error')\n",
    "grid_search_de.fit(X_train_de, Y_train_de)\n",
    "\n",
    "# Best hyperparameters for Germany\n",
    "best_params_de = grid_search_de.best_params_\n",
    "best_rf_model_de = grid_search_de.best_estimator_\n",
    "\n",
    "# Model evaluation on Germany training set\n",
    "output_de = best_rf_model_de.predict(X_train_de)\n",
    "\n",
    "spearman_de = spearmanr(output_de, Y_train_de).correlation\n",
    "\n",
    "print('Spearman correlation for tuned XBoost on training set Germany: {:.2f}'.format(spearman_de))"
   ]
  },
  {
   "cell_type": "code",
   "execution_count": null,
   "metadata": {},
   "outputs": [],
   "source": [
    "# Fit the model for France\n",
    "rf_model.fit(X_train_fr_split, Y_train_fr_split)\n",
    "\n",
    "output_train_rf_fr = rf_model.predict(X_train_fr_split)\n",
    "output_val_rf_fr = rf_model.predict(X_val_fr_split)\n",
    "\n",
    "correlation_train_xgb_fr = spearmanr(output_train_rf_fr, Y_train_fr_split).correlation\n",
    "correlation_val_xgb_fr = spearmanr(output_val_rf_fr, Y_val_fr_split).correlation\n",
    "\n",
    "print(f\"Spearman's correlation for XGBoost on training set (France): {correlation_train_xgb_fr}\")\n",
    "print(f\"Spearman's correlation for XGBoost on validation set (France): {correlation_val_xgb_fr}\")"
   ]
  },
  {
   "cell_type": "code",
   "execution_count": null,
   "metadata": {},
   "outputs": [],
   "source": [
    "grid_search_fr = GridSearchCV(rf_model, param_grid, cv=kf, scoring='neg_mean_squared_error')\n",
    "grid_search_fr.fit(X_train_fr, Y_train_fr)\n",
    "\n",
    "best_params_fr = grid_search_fr.best_params_\n",
    "best_rf_model_fr = grid_search_fr.best_estimator_\n",
    "\n",
    "# Model evaluation on Germany training set\n",
    "output_fr = best_rf_model_fr.predict(X_train_fr)\n",
    "\n",
    "spearman_fr = spearmanr(output_fr, Y_train_fr).correlation\n",
    "\n",
    "print('Spearman correlation for tuned XBoost on training set France: {:.2f}'.format(spearman_de))"
   ]
  },
  {
   "cell_type": "code",
   "execution_count": null,
   "metadata": {},
   "outputs": [],
   "source": [
    "# Final predictions for the test set\n",
    "X_test_de = X_test[X_test['COUNTRY'] == 'DE'].drop(['ID', 'DAY_ID', 'COUNTRY'], axis=1)\n",
    "Y_test_submission_de = X_test_de[['ID']].copy()\n",
    "Y_test_submission_de['TARGET'] = best_rf_model_de.predict(X_test_de)\n",
    "\n",
    "X_test_fr= X_test[X_test['COUNTRY'] == 'FR'].drop(['ID', 'DAY_ID', 'COUNTRY'], axis=1)\n",
    "Y_test_submission_fr = X_test_fr[['ID']].copy()\n",
    "Y_test_submission_fr['TARGET'] = best_rf_model_fr.predict(X_test_fr)\n",
    "\n",
    "# Combine predictions for the final submission file\n",
    "Y_test_submission = pd.concat([Y_test_submission_de, Y_test_submission_de], axis=0)"
   ]
  }
 ],
 "metadata": {
  "language_info": {
   "name": "python"
  }
 },
 "nbformat": 4,
 "nbformat_minor": 2
}
